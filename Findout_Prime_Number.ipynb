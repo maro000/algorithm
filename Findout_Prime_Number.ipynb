{
  "nbformat": 4,
  "nbformat_minor": 0,
  "metadata": {
    "colab": {
      "name": "Findout Prime Number.ipynb",
      "provenance": [],
      "collapsed_sections": [],
      "include_colab_link": true
    },
    "kernelspec": {
      "name": "python3",
      "display_name": "Python 3"
    }
  },
  "cells": [
    {
      "cell_type": "markdown",
      "metadata": {
        "id": "view-in-github",
        "colab_type": "text"
      },
      "source": [
        "<a href=\"https://colab.research.google.com/github/maro000/algorithm/blob/master/Findout_Prime_Number.ipynb\" target=\"_parent\"><img src=\"https://colab.research.google.com/assets/colab-badge.svg\" alt=\"Open In Colab\"/></a>"
      ]
    },
    {
      "cell_type": "code",
      "metadata": {
        "id": "i2xeeh05n0T7",
        "colab_type": "code",
        "colab": {}
      },
      "source": [
        "# １０までの素数判定\n",
        "# 空のリスト\n",
        "numbers =[]\n",
        "\n",
        "# 繰り返し\n",
        "for i in range(1,11):\n",
        "  flag = True # 素数判定フラグ\n",
        "  for j in range(2,i):\n",
        "    if i % j ==0:\n",
        "      flag = False\n",
        "  # 素数の場合\n",
        "  if flag == True:\n",
        "    numbers.append(i)\n",
        "numbers"
      ],
      "execution_count": 0,
      "outputs": []
    },
    {
      "cell_type": "code",
      "metadata": {
        "id": "lHM8g54W-Wb5",
        "colab_type": "code",
        "colab": {}
      },
      "source": [
        "# 素数判定アルゴリズム\n",
        "def getPrimeNumbers(max_value):\n",
        "  # 空のリスト作成\n",
        "  numbers =[]\n",
        "  # 繰り返し\n",
        "  for i in range(1,max_value + 1):\n",
        "    flag = True # 素数判定フラグ\n",
        "    # 割ってあまりを判定\n",
        "    for j in range(2,i):\n",
        "      if i % j ==0:\n",
        "        flag = False\n",
        "    # 素数の場合\n",
        "    if flag == True:\n",
        "      numbers.append(i)\n",
        "\n",
        "  return numbers"
      ],
      "execution_count": 0,
      "outputs": []
    },
    {
      "cell_type": "code",
      "metadata": {
        "id": "Wxxq8N-W_Kuj",
        "colab_type": "code",
        "colab": {
          "base_uri": "https://localhost:8080/",
          "height": 34
        },
        "outputId": "c43ff250-2a1b-4975-d7cb-2e8d1cf593df"
      },
      "source": [
        "getPrimeNumbers(10)"
      ],
      "execution_count": 13,
      "outputs": [
        {
          "output_type": "execute_result",
          "data": {
            "text/plain": [
              "[1, 2, 3, 5, 7]"
            ]
          },
          "metadata": {
            "tags": []
          },
          "execution_count": 13
        }
      ]
    },
    {
      "cell_type": "code",
      "metadata": {
        "id": "rGv29wWeAADW",
        "colab_type": "code",
        "colab": {}
      },
      "source": [
        "# 実行速度判定\n",
        "%%timeit"
      ],
      "execution_count": 0,
      "outputs": []
    }
  ]
}